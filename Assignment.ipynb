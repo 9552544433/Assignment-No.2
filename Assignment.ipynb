{
  "nbformat": 4,
  "nbformat_minor": 0,
  "metadata": {
    "colab": {
      "provenance": []
    },
    "kernelspec": {
      "name": "python3",
      "display_name": "Python 3"
    },
    "language_info": {
      "name": "python"
    }
  },
  "cells": [
    {
      "cell_type": "code",
      "execution_count": 1,
      "metadata": {
        "colab": {
          "base_uri": "https://localhost:8080/"
        },
        "id": "ywoDozkvNUQ5",
        "outputId": "8567bb98-fce5-4560-8741-a6a3295e384c"
      },
      "outputs": [
        {
          "output_type": "stream",
          "name": "stdout",
          "text": [
            "supercar sound like knocking and have medium speed\n",
            "racing car sound like grinding and have High speed\n"
          ]
        }
      ],
      "source": [
        "class car():\n",
        "\n",
        " def __init__(self,name,price,colour):\n",
        "    self.name= name\n",
        "    self.price= price\n",
        "    self.colour= colour\n",
        "\n",
        " def sound(self,sound):\n",
        "   self.sound= sound\n",
        "\n",
        " def speed(self,speed):\n",
        "   self.speed= speed\n",
        "\n",
        " def display(self):\n",
        "   return\"{} sound like {} and have {} speed\".format(self.name,self.sound,self.speed)\n",
        "\n",
        "class thar(car):\n",
        "  def ownername(self,ownername):\n",
        "   return\"{} is a owner of car {}\".format(ownername,self.name)\n",
        "\n",
        "obj1 = thar(\"supercar\",\"16 lakh\",\"white\")\n",
        "obj2 = thar(\"racing car\",\"25 lakh\",\"red\")\n",
        "obj1.sound(\"knocking\")\n",
        "obj2.sound(\"grinding\")\n",
        "obj1.speed(\"medium\")\n",
        "obj2.speed(\"High\")\n",
        "print(obj1.display())\n",
        "print(obj2.display())\n"
      ]
    },
    {
      "cell_type": "code",
      "source": [
        "try:\n",
        "  x=int(input(\"Enter first number\"))\n",
        "  y=int(input(\"Enter second number\"))\n",
        "  z=x/y\n",
        "  print(z)\n",
        "\n",
        "except ZeroDivisionError:\n",
        "  print(\"Division of any number by zero is cannot defined\")"
      ],
      "metadata": {
        "colab": {
          "base_uri": "https://localhost:8080/"
        },
        "id": "jM2FhyiyNfzS",
        "outputId": "df36ebca-93ea-4110-c225-211453b5622a"
      },
      "execution_count": 2,
      "outputs": [
        {
          "output_type": "stream",
          "name": "stdout",
          "text": [
            "Enter first number35\n",
            "Enter second number0\n",
            "Division of any number by zero is cannot defined\n"
          ]
        }
      ]
    },
    {
      "cell_type": "code",
      "source": [],
      "metadata": {
        "id": "9AKUT3JnNmNV"
      },
      "execution_count": null,
      "outputs": []
    }
  ]
}